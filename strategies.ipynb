{
 "cells": [
  {
   "cell_type": "code",
   "execution_count": 9,
   "id": "ef7a4e7c-ff17-4739-96d7-582f956653b5",
   "metadata": {},
   "outputs": [
    {
     "ename": "IndexError",
     "evalue": "too many indices for array: array is 1-dimensional, but 2 were indexed",
     "output_type": "error",
     "traceback": [
      "\u001b[0;31m---------------------------------------------------------------------------\u001b[0m",
      "\u001b[0;31mIndexError\u001b[0m                                Traceback (most recent call last)",
      "Cell \u001b[0;32mIn[9], line 50\u001b[0m\n\u001b[1;32m     47\u001b[0m         \u001b[38;5;28;01mreturn\u001b[39;00m \u001b[38;5;124m'\u001b[39m\u001b[38;5;124mNo Bet - Sideways Market\u001b[39m\u001b[38;5;124m'\u001b[39m\n\u001b[1;32m     49\u001b[0m \u001b[38;5;66;03m# Example usage (This line should be scheduled to run 1 minute before PancakeSwap round closes)\u001b[39;00m\n\u001b[0;32m---> 50\u001b[0m suggestion \u001b[38;5;241m=\u001b[39m \u001b[43mpredict_pancakeswap_round\u001b[49m\u001b[43m(\u001b[49m\u001b[43m)\u001b[49m\n\u001b[1;32m     51\u001b[0m \u001b[38;5;28mprint\u001b[39m(\u001b[38;5;124mf\u001b[39m\u001b[38;5;124m\"\u001b[39m\u001b[38;5;124mSuggested Action: \u001b[39m\u001b[38;5;132;01m{\u001b[39;00msuggestion\u001b[38;5;132;01m}\u001b[39;00m\u001b[38;5;124m\"\u001b[39m)\n",
      "Cell \u001b[0;32mIn[9], line 37\u001b[0m, in \u001b[0;36mpredict_pancakeswap_round\u001b[0;34m(pair, prediction_interval)\u001b[0m\n\u001b[1;32m     35\u001b[0m \u001b[38;5;66;03m# Fetch historical data to determine market condition\u001b[39;00m\n\u001b[1;32m     36\u001b[0m ohlcv \u001b[38;5;241m=\u001b[39m fetch_ohlcv_last_minutes(pair, prediction_interval)\n\u001b[0;32m---> 37\u001b[0m market_condition \u001b[38;5;241m=\u001b[39m \u001b[43mdetermine_market_condition\u001b[49m\u001b[43m(\u001b[49m\u001b[43mohlcv\u001b[49m\u001b[43m)\u001b[49m\n\u001b[1;32m     39\u001b[0m \u001b[38;5;66;03m# Strategy decision based on market condition\u001b[39;00m\n\u001b[1;32m     40\u001b[0m \u001b[38;5;28;01mif\u001b[39;00m market_condition \u001b[38;5;241m==\u001b[39m \u001b[38;5;124m'\u001b[39m\u001b[38;5;124mbullish\u001b[39m\u001b[38;5;124m'\u001b[39m:\n",
      "Cell \u001b[0;32mIn[9], line 20\u001b[0m, in \u001b[0;36mdetermine_market_condition\u001b[0;34m(ohlcv)\u001b[0m\n\u001b[1;32m     18\u001b[0m \u001b[38;5;28;01mdef\u001b[39;00m \u001b[38;5;21mdetermine_market_condition\u001b[39m(ohlcv):\n\u001b[1;32m     19\u001b[0m \u001b[38;5;250m    \u001b[39m\u001b[38;5;124;03m\"\"\"Determine if the market is bullish, bearish, or sideways.\"\"\"\u001b[39;00m\n\u001b[0;32m---> 20\u001b[0m     open_prices, close_prices \u001b[38;5;241m=\u001b[39m \u001b[43mohlcv\u001b[49m\u001b[43m[\u001b[49m\u001b[43m:\u001b[49m\u001b[43m,\u001b[49m\u001b[43m \u001b[49m\u001b[38;5;241;43m1\u001b[39;49m\u001b[43m]\u001b[49m, ohlcv[:, \u001b[38;5;241m4\u001b[39m]  \u001b[38;5;66;03m# Open and close prices\u001b[39;00m\n\u001b[1;32m     21\u001b[0m     avg_open, avg_close \u001b[38;5;241m=\u001b[39m np\u001b[38;5;241m.\u001b[39mmean(open_prices), np\u001b[38;5;241m.\u001b[39mmean(close_prices)\n\u001b[1;32m     23\u001b[0m     \u001b[38;5;28;01mif\u001b[39;00m avg_close \u001b[38;5;241m>\u001b[39m avg_open \u001b[38;5;241m*\u001b[39m \u001b[38;5;241m1.01\u001b[39m:  \u001b[38;5;66;03m# Modify thresholds as needed\u001b[39;00m\n",
      "\u001b[0;31mIndexError\u001b[0m: too many indices for array: array is 1-dimensional, but 2 were indexed"
     ]
    }
   ],
   "source": [
    "import ccxt\n",
    "import config\n",
    "from datetime import datetime, timedelta\n",
    "import numpy as np\n",
    "\n",
    "# Initialize Binance US exchange\n",
    "binance_us = ccxt.binanceus({\n",
    "    'apiKey': config.BINANCE_US_API_KEY,\n",
    "    'secret': config.BINANCE_US_SECRET_KEY,\n",
    "})\n",
    "\n",
    "def fetch_ohlcv_last_minutes(pair, minutes=5, timeframe='1m'):\n",
    "    \"\"\"Fetch the last 'minutes' of OHLCV data for the given 'pair'.\"\"\"\n",
    "    since = binance_us.milliseconds() - minutes * 60 * 1000  # 'minutes' ago from now\n",
    "    ohlcv = binance_us.fetch_ohlcv(pair, timeframe, since, limit=minutes)\n",
    "    return np.array(ohlcv)\n",
    "\n",
    "def determine_market_condition(ohlcv):\n",
    "    \"\"\"Determine if the market is bullish, bearish, or sideways.\"\"\"\n",
    "    open_prices, close_prices = ohlcv[:, 1], ohlcv[:, 4]  # Open and close prices\n",
    "    avg_open, avg_close = np.mean(open_prices), np.mean(close_prices)\n",
    "    \n",
    "    if avg_close > avg_open * 1.01:  # Modify thresholds as needed\n",
    "        return 'bullish'\n",
    "    elif avg_close < avg_open * 0.99:\n",
    "        return 'bearish'\n",
    "    else:\n",
    "        return 'sideways'\n",
    "\n",
    "def predict_pancakeswap_round(pair='BNB/USD', prediction_interval=5):\n",
    "    \"\"\"\n",
    "    Decide whether to bet bull or bear on the next PancakeSwap prediction round.\n",
    "    This function should be executed 1 minute before the round closes.\n",
    "    \"\"\"\n",
    "    # Fetch historical data to determine market condition\n",
    "    ohlcv = fetch_ohlcv_last_minutes(pair, prediction_interval)\n",
    "    market_condition = determine_market_condition(ohlcv)\n",
    "    \n",
    "    # Strategy decision based on market condition\n",
    "    if market_condition == 'bullish':\n",
    "        return 'Bet on Bull'\n",
    "    elif market_condition == 'bearish':\n",
    "        return 'Bet on Bear'\n",
    "    else:\n",
    "        # Implement additional logic for sideways market\n",
    "        # For example, check the volume, implement range-bound strategies, etc.\n",
    "        return 'No Bet - Sideways Market'\n",
    "\n",
    "# Example usage (This line should be scheduled to run 1 minute before PancakeSwap round closes)\n",
    "suggestion = predict_pancakeswap_round()\n",
    "print(f\"Suggested Action: {suggestion}\")"
   ]
  }
 ],
 "metadata": {
  "kernelspec": {
   "display_name": "Python 3 (ipykernel)",
   "language": "python",
   "name": "python3"
  },
  "language_info": {
   "codemirror_mode": {
    "name": "ipython",
    "version": 3
   },
   "file_extension": ".py",
   "mimetype": "text/x-python",
   "name": "python",
   "nbconvert_exporter": "python",
   "pygments_lexer": "ipython3",
   "version": "3.9.6"
  }
 },
 "nbformat": 4,
 "nbformat_minor": 5
}
